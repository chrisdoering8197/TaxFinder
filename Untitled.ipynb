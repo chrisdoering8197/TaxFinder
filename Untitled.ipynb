{
 "cells": [
  {
   "cell_type": "code",
   "execution_count": 4,
   "id": "9499dbe2-9147-4493-ab5d-760ed257aaa8",
   "metadata": {},
   "outputs": [],
   "source": [
    "from Bio import SeqIO\n",
    "from Bio import SearchIO\n",
    "import pandas as pd\n",
    "import os\n",
    "import glob\n",
    "HOME=os.path.expandvars('$HOME')+'/'"
   ]
  },
  {
   "cell_type": "code",
   "execution_count": 6,
   "id": "d4ef1729-b97e-415e-b87c-984843db71ec",
   "metadata": {},
   "outputs": [
    {
     "data": {
      "text/html": [
       "<div>\n",
       "<style scoped>\n",
       "    .dataframe tbody tr th:only-of-type {\n",
       "        vertical-align: middle;\n",
       "    }\n",
       "\n",
       "    .dataframe tbody tr th {\n",
       "        vertical-align: top;\n",
       "    }\n",
       "\n",
       "    .dataframe thead th {\n",
       "        text-align: right;\n",
       "    }\n",
       "</style>\n",
       "<table border=\"1\" class=\"dataframe\">\n",
       "  <thead>\n",
       "    <tr style=\"text-align: right;\">\n",
       "      <th></th>\n",
       "      <th>#assembly_accession</th>\n",
       "      <th>species_taxid</th>\n",
       "    </tr>\n",
       "  </thead>\n",
       "  <tbody>\n",
       "    <tr>\n",
       "      <th>0</th>\n",
       "      <td>GCF_900128725.1</td>\n",
       "      <td>9</td>\n",
       "    </tr>\n",
       "    <tr>\n",
       "      <th>1</th>\n",
       "      <td>GCF_948107705.1</td>\n",
       "      <td>9</td>\n",
       "    </tr>\n",
       "    <tr>\n",
       "      <th>2</th>\n",
       "      <td>GCF_008244535.1</td>\n",
       "      <td>14</td>\n",
       "    </tr>\n",
       "    <tr>\n",
       "      <th>3</th>\n",
       "      <td>GCF_026418735.1</td>\n",
       "      <td>14</td>\n",
       "    </tr>\n",
       "    <tr>\n",
       "      <th>4</th>\n",
       "      <td>GCF_003854875.1</td>\n",
       "      <td>17</td>\n",
       "    </tr>\n",
       "    <tr>\n",
       "      <th>...</th>\n",
       "      <td>...</td>\n",
       "      <td>...</td>\n",
       "    </tr>\n",
       "    <tr>\n",
       "      <th>306755</th>\n",
       "      <td>GCF_030499415.1</td>\n",
       "      <td>3061044</td>\n",
       "    </tr>\n",
       "    <tr>\n",
       "      <th>306756</th>\n",
       "      <td>GCF_030499455.1</td>\n",
       "      <td>3061045</td>\n",
       "    </tr>\n",
       "    <tr>\n",
       "      <th>306757</th>\n",
       "      <td>GCF_030499435.1</td>\n",
       "      <td>3061046</td>\n",
       "    </tr>\n",
       "    <tr>\n",
       "      <th>306758</th>\n",
       "      <td>GCF_030499465.1</td>\n",
       "      <td>3061047</td>\n",
       "    </tr>\n",
       "    <tr>\n",
       "      <th>306759</th>\n",
       "      <td>GCF_028993595.1</td>\n",
       "      <td>3061629</td>\n",
       "    </tr>\n",
       "  </tbody>\n",
       "</table>\n",
       "<p>306760 rows × 2 columns</p>\n",
       "</div>"
      ],
      "text/plain": [
       "       #assembly_accession  species_taxid\n",
       "0          GCF_900128725.1              9\n",
       "1          GCF_948107705.1              9\n",
       "2          GCF_008244535.1             14\n",
       "3          GCF_026418735.1             14\n",
       "4          GCF_003854875.1             17\n",
       "...                    ...            ...\n",
       "306755     GCF_030499415.1        3061044\n",
       "306756     GCF_030499455.1        3061045\n",
       "306757     GCF_030499435.1        3061046\n",
       "306758     GCF_030499465.1        3061047\n",
       "306759     GCF_028993595.1        3061629\n",
       "\n",
       "[306760 rows x 2 columns]"
      ]
     },
     "execution_count": 6,
     "metadata": {},
     "output_type": "execute_result"
    }
   ],
   "source": [
    "assembly = pd.read_csv(HOME+'LaubLab_shared/assembly_summary.txt',sep = '\\t',skiprows = 1,usecols = ['#assembly_accession','species_taxid'])\n",
    "assembly"
   ]
  },
  {
   "cell_type": "code",
   "execution_count": 7,
   "id": "411d78fe-2e73-41dd-93bb-33434bf99395",
   "metadata": {},
   "outputs": [],
   "source": [
    "taxid = set(assembly['species_taxid'].tolist())"
   ]
  },
  {
   "cell_type": "code",
   "execution_count": 10,
   "id": "5ce0ffa8-689c-4b3e-ab20-7db8ee6f3e0b",
   "metadata": {},
   "outputs": [],
   "source": [
    "with open('taxIDs.txt','w') as file:\n",
    "    for ID in taxid:\n",
    "        file.write(str(ID)+' \\n')"
   ]
  },
  {
   "cell_type": "code",
   "execution_count": null,
   "id": "ef8a8920-9cdf-41ab-931f-a3c88a6d6b57",
   "metadata": {},
   "outputs": [],
   "source": []
  }
 ],
 "metadata": {
  "kernelspec": {
   "display_name": "Python (MyEnv)",
   "language": "python",
   "name": "myenv"
  },
  "language_info": {
   "codemirror_mode": {
    "name": "ipython",
    "version": 3
   },
   "file_extension": ".py",
   "mimetype": "text/x-python",
   "name": "python",
   "nbconvert_exporter": "python",
   "pygments_lexer": "ipython3",
   "version": "3.11.9"
  }
 },
 "nbformat": 4,
 "nbformat_minor": 5
}
