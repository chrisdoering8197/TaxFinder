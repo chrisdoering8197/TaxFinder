{
 "cells": [
  {
   "cell_type": "code",
   "execution_count": 4,
   "id": "1918d05c-5852-469f-847e-1438e4cfe6ee",
   "metadata": {},
   "outputs": [],
   "source": [
    "import pandas as pd\n",
    "import numpy as np\n",
    "from Bio import SearchIO"
   ]
  },
  {
   "cell_type": "code",
   "execution_count": 5,
   "id": "b3574437-ecf8-4cd1-9526-c0ef788632bd",
   "metadata": {},
   "outputs": [],
   "source": [
    "taxa_file_path = '/home/gridsan/cdoering/LaubLab_shared/assembly_summary.txt'\n",
    "FT_file_path = '/home/gridsan/cdoering/LaubLab_shared/All_RefSeq_Assemblies_Accessions.parquet'"
   ]
  },
  {
   "cell_type": "code",
   "execution_count": 6,
   "id": "f9862062-76e3-4e94-a38b-80f71376446c",
   "metadata": {},
   "outputs": [],
   "source": [
    "#Assembly taxid and species taxid information for every genbank and refseq genome and store in dictionary\n",
    "assemblySums = pd.read_csv(taxa_file_path,sep = '\\t',skiprows = 1,usecols = ['#assembly_accession','species_taxid'])\n",
    "Acc2Taxid = assemblySums.set_index('#assembly_accession')['species_taxid'].to_dict()  "
   ]
  },
  {
   "cell_type": "code",
   "execution_count": null,
   "id": "8f73f1f7-a699-4c03-85a7-3bfdbf8c8bef",
   "metadata": {},
   "outputs": [],
   "source": [
    "#Read in combined feature table\n",
    "FT = pd.read_parquet(FT_file_path,columns=['non-redundant_refseq','assembly','genomic_accession'])"
   ]
  },
  {
   "cell_type": "code",
   "execution_count": null,
   "id": "10c24085-679a-44b2-a52e-9cc53042c4ad",
   "metadata": {},
   "outputs": [],
   "source": [
    "phmmer_file = '/home/gridsan/cdoering/TaxFinder/phmmer_result/CmdTAC_phmmer.txt'\n",
    "#Read in phmmer hits as dictionary\n",
    "phmmer_hits = {}\n",
    "for record in SearchIO.parse(phmmer_file,'hmmer3-tab'):\n",
    "    hits = {x.id for x in record.hits}\n",
    "    phmmer_hits[record.id] = hits\n",
    "all_hits = {hit for one_set_of_hits in phmmer_hits.values() for hit in one_set_of_hits}"
   ]
  },
  {
   "cell_type": "code",
   "execution_count": null,
   "id": "db4f0ce4-b36f-456a-822a-fc0900dbf3d8",
   "metadata": {},
   "outputs": [],
   "source": [
    "#Filter FT to only include hits\n",
    "FT_hits = FT[FT['non-redundant_refseq'].isin(all_hits)]"
   ]
  }
 ],
 "metadata": {
  "kernelspec": {
   "display_name": "Python (MyEnv)",
   "language": "python",
   "name": "myenv"
  },
  "language_info": {
   "codemirror_mode": {
    "name": "ipython",
    "version": 3
   },
   "file_extension": ".py",
   "mimetype": "text/x-python",
   "name": "python",
   "nbconvert_exporter": "python",
   "pygments_lexer": "ipython3",
   "version": "3.11.9"
  }
 },
 "nbformat": 4,
 "nbformat_minor": 5
}
